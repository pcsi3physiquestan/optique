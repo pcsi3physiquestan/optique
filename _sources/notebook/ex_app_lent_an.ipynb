{
 "cells": [
  {
   "cell_type": "markdown",
   "id": "brilliant-phrase",
   "metadata": {},
   "source": [
    "# Application: démonstration de la relation de conjugaison\n",
    "Cet exercice d'application directe est à faire à la suite du cours pour vérifier votre compréhension des méthodes. Vous pourrez confronter votre travail avec celui de vos camarades et poser des questions sur cet exercice en classe mais il ne sera pas donné de correction complète.\n",
    "\n",
    "\n",
    "````{admonition} Exercice \n",
    ":class: attention\n",
    "\n",
    "On considère une lentille divergente. Démontrer les relations de conjugaison.\n",
    "````\n",
    "\n",
    "\n",
    "````{admonition} Exercice \n",
    ":class: attention\n",
    "\n",
    "Estimer la distance entre la lentille et la matrice CCD d'un appareil photo numérique de distance focale 50mm lorsqu'il fait la mise au point sur un objet:\n",
    "\n",
    "1. lointain\n",
    "2. à 10m\n",
    "3. à 3m\n",
    "4. à 50cm. Commenter. \n",
    "````"
   ]
  }
 ],
 "metadata": {
  "jupytext": {
   "encoding": "# -*- coding: utf-8 -*-",
   "formats": "ipynb,md:myst",
   "split_at_heading": true,
   "text_representation": {
    "extension": ".md",
    "format_name": "myst",
    "format_version": 0.13,
    "jupytext_version": "1.10.3"
   }
  },
  "kernelspec": {
   "display_name": "Python 3",
   "language": "python",
   "name": "python3"
  },
  "language_info": {
   "codemirror_mode": {
    "name": "ipython",
    "version": 3
   },
   "file_extension": ".py",
   "mimetype": "text/x-python",
   "name": "python",
   "nbconvert_exporter": "python",
   "pygments_lexer": "ipython3",
   "version": "3.9.2"
  },
  "source_map": [
   15
  ]
 },
 "nbformat": 4,
 "nbformat_minor": 5
}