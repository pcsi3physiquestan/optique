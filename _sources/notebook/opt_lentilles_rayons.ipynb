{
 "cells": [
  {
   "cell_type": "markdown",
   "id": "6a96ba9c",
   "metadata": {},
   "source": [
    "# Lentilles minces: tracés des rayons\n",
    "\n",
    "## Rayons utiles\n",
    "````{topic} Mise en contexte\n",
    "En optique, les études graphiques peuvent être très utiles pour raisonner et prévoir. Mais pour une lentille mince, l'utilisation de la schématisation de Gauss empêche l'utilisation des lois de Snell-Descartes (il n'y a plus la courbure du dioptre ni son épaisseur).\n",
    "\n",
    "On doit donc utiliser d'autres méthodes pour construire la position d'une image A'B' connaissant l'objet AB, construire la position d'un objet AB connaissant la position de l'image, déterminer le devenir d'un rayon ou d'un faisceau... \n",
    "````\n",
    "\n",
    "Nous allons présenter ici les 4 rayons (plutôt 3 rayons et une propriété particulière) qui peuvent être utiles pour les études présentées ci-dessus. Ils utilisent les éléments principaux de la lentille.\n",
    "\n",
    "\n",
    "````{important} __Fondamental : Rayons utiles__\n",
    "* Un rayon incident parallèle à l'axe optique ressort en passant par le foyer principal image.\n",
    "\n",
    "_A l'inverse, un rayon sortant passant par le foyer principal image a pour antécédent un rayon parallèle à l'axe optique._\n",
    "```{figure} ./images/optique_rayon_entrant_para.jpg\n",
    ":name: l_rayon_entrant\n",
    ":align: center\n",
    ":width: 40%\n",
    "```\n",
    "\n",
    "* Un rayon entrant passant par le foyer principal objet ressort de la lentille parallèlement à l'axe optique.\n",
    "\n",
    "_A l'inverse, un rayon sortant parallèle à l'axe optique a pour antécédent un rayon qui passe par le foyer principal objet._\n",
    "```{figure} ./images/optique_rayon_sortant_para.jpg\n",
    ":name: l_rayon_sortant\n",
    ":align: center\n",
    ":width: 40%\n",
    "```\n",
    "````\n",
    "\n",
    "````{important} __Fondamental : Rayons utiles (2)__\n",
    "* Un rayon entrant passant par le centre optique ressort non dévié.\n",
    "```{figure} ./images/optique_rayon_centre_optique.jpg\n",
    ":name: l_rayon_centre\n",
    ":align: center\n",
    ":width: 40%\n",
    "```\n",
    "\n",
    "* Deux (ou plus) rayons incidents parallèles entre eux ressortent en se croisant en un foyer image (secondaire ou principal) donc dans le plan focal image.\n",
    "```{figure} ./images/optique_rayon_faisceau_parallele.jpg\n",
    ":name: l_faisceau\n",
    ":align: center\n",
    ":width: 40%\n",
    "```\n",
    "\n",
    "* Deux (ou plus) rayons transmis parallèles entre eux ont pour antécédents des rayons qui se croisent en un foyer objet (secondaire ou principal) donc dans le plan focal objet.\n",
    "````"
   ]
  }
 ],
 "metadata": {
  "jupytext": {
   "encoding": "# -*- coding: utf-8 -*-",
   "formats": "ipynb,md:myst",
   "split_at_heading": true,
   "text_representation": {
    "extension": ".md",
    "format_name": "myst",
    "format_version": 0.13,
    "jupytext_version": "1.10.3"
   }
  },
  "kernelspec": {
   "display_name": "Python 3",
   "language": "python",
   "name": "python3"
  },
  "language_info": {
   "codemirror_mode": {
    "name": "ipython",
    "version": 3
   },
   "file_extension": ".py",
   "mimetype": "text/x-python",
   "name": "python",
   "nbconvert_exporter": "python",
   "pygments_lexer": "ipython3",
   "version": "3.9.15"
  },
  "source_map": [
   15
  ]
 },
 "nbformat": 4,
 "nbformat_minor": 5
}