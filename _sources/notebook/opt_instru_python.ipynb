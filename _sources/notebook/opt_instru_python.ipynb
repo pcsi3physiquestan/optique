{
 "cells": [
  {
   "cell_type": "markdown",
   "id": "minus-province",
   "metadata": {},
   "source": [
    "# Physique et informatique - Entrainement\n",
    "\n",
    "Ces exercices proposent de s'entrainer à l'utilisation de Python en physique dans le cadre de l'optique. On n'utilisera pas ici de méthode numérique particulière, simplement le tracé graphique et l'utilisation de `numpy`.\n",
    "\n",
    "## Etude théorique\n",
    "Cette partie est semblable à un exercice d'entrainement classique.\n",
    "\n",
    "On considère un axe Ox et on supposera par la suite que _tous les axes optiques des systèmes centrées mis en jeu sont confondus avec Ox._ On repèrera donc la position longitudinale de tout objet, image ou lentille par une coordonnées $x$ sur cet axe. __Attention, ces coordonnées ne sont PAS des distance algébriques comme dans les relations de conjugaison.__\n",
    "\n",
    "On choisi un axe $Oy$ orienté de sorte à ce que $(O, \\overrightarrow{e}_x, \\overrightarrow{e}_y)$ soit orienté dans le sens trigonométrique. La côté $y$ d'un objet ou d'une image sur cet axe correspondra à sa taille.\n",
    "\n",
    "````{admonition} Mise en équation\n",
    ":class: tip\n",
    "1. On considère une lentille placé à la coordonnée $x_L$, de distance focale $f'$ et un objet lumineux situé à une coordonnée $x_O$ et de taille $y_O$. Exprimer la position $x_I$ et la taille $y_I$ de l'image de cet objet par la lentille et montrer que :\n",
    "\n",
    "$$\n",
    "\\begin{cases}\n",
    "x_I &= x_L + \\frac{f' (x_O - x_L)}{f' + x_O - x_L}\\\\\n",
    "y_I &= \\frac{f'}{f' + x_0 - x_L}y_O\n",
    "\\end{cases}\n",
    "$$\n",
    "````\n",
    "\n",
    "On va considérer pour l'étude numérique un système à trois lentilles $(L_2), (L_3), L_4)$ telle que:\n",
    "\n",
    "$$\n",
    "\\begin{cases}\n",
    "f_2 = f_4 &= -6 \\rm{cm}\\\\\n",
    "f_3 &= 3.5 \\rm{cm}\\\\\n",
    "\\overline{O_2 O_4} &= f_4 + \\frac{f_2 f_3}{f_2 + f_3}\n",
    "\\end{cases}\n",
    "$$\n",
    "\n",
    "Les lentilles $L_2$ et $L_4$ sont fixes et la lentilles $L_3$ peut se déplacer entre les deux lentilles.\n",
    "\n",
    "On rappelle que lorsque deux lentilles de distances focales $f_A$ et $f_B$ sont accolées, l'ensemble est équivalent à une seule lentille dont la distance focale est:\n",
    "\n",
    "$$\n",
    "f_{eq} = \\frac{f_A f_B}{f_B + f_B}\n",
    "$$\n",
    "\n",
    "````{admonition} Cas extrêmes.\n",
    ":class: tip\n",
    "Justifier que lorsque $L_3$ est accolée à $L_2$ ou à $L_4$, alors le système est afocal.\n",
    "````\n",
    "\n",
    "## Partie code\n",
    "Vous allez maintenant vous entraîner à coder en Python. Lorsqu'on code des problèmes physiques, il est important de savoir sous quelle forme/type on va coder les objets physiques. Ici:\n",
    "* Les objets et les images seront représentés par des listes de deux flottants `obj <- [xi, yi]` où `xi` et `yi` représentent les coordonnées de l'objet (position sur Ox et taille sur Oy).\n",
    "* Les lentilles seront représentées par des listes de deux flottants `L1 <- [xL, f]` où `xL` représente la position sur Ox de la lentille et `f` la distance focale image de la lentille."
   ]
  },
  {
   "cell_type": "code",
   "execution_count": 1,
   "id": "spectacular-profit",
   "metadata": {
    "tags": [
     "remove-output"
    ]
   },
   "outputs": [
    {
     "name": "stdout",
     "output_type": "stream",
     "text": [
      "-3\n"
     ]
    }
   ],
   "source": [
    "# Exemples\n",
    "objet1 = [-3, 1] # Objet ou image en x=-3 de taille y=1\n",
    "lentille1 = [2, -1] # Lentilles en x=2 de distance focale f=-1\n",
    "print(objet1[0])  # Quelle valeur est affichee ? A quelle grandeur physique correspond-elle ?"
   ]
  },
  {
   "cell_type": "markdown",
   "id": "stopped-alfred",
   "metadata": {},
   "source": [
    "Lorsqu'on étudiera le système $L_2 + L_3 + L_4$, on supposera que la lentille $L_2$ est placée en $O$, soit $x_2 = 0$.\n",
    "\n",
    "````{admonition} Codons\n",
    ":class: tip\n",
    "1. Ecrire une fonction `image(L:list, objet:list) --> list` qui prend comme argument:\n",
    "    * `L`: une liste représentant une lentille\n",
    "    * `objet`: une liste représentant un objet  \n",
    "    et qui renvoie une liste représentant l'image de l'objet par la lentille.\n",
    "2. Se servir de la fonction image pour trouver la position de l'image finale donnée par le système $L_2 + L_3 + L_4$ lorsque $L_3$ est au milieu de $L_2$ et $L_4$ pour un objet situé 1m avant le système.\n",
    "3. Ecrire une procédure `systeme(objet:list) --> list` qui prend comme argument un objet et qui renvoie la position finale après le système $L_2 + L_3 + L_4$.\n",
    "4. Pour 100 positions équiréparties d'objet entre 100m et 1m, tous de taille 1, obtenir, sous forme de liste les positions des images correspondant. On devra pour cela:\n",
    "    * Utiliser la fonction `numpy.linspace` pour créer un vecteur position d'objet équiréparties.\n",
    "    * Utiliser une boucle pour obtenir et stocker les positions d'image obtenues dans une liste.\n",
    "5. Modifier le programme précédent pour obtenir aussi dans une seconde liste, les tailles des images.\n",
    "6. Tracer 2 graphiques représentant la position ou la taille de l'image en fonction de la position de l'objet.\n",
    "````"
   ]
  },
  {
   "cell_type": "code",
   "execution_count": 2,
   "id": "middle-metabolism",
   "metadata": {
    "tags": [
     "remove-output",
     "remove-input"
    ]
   },
   "outputs": [
    {
     "name": "stdout",
     "output_type": "stream",
     "text": [
      "656.0296296296336\n"
     ]
    },
    {
     "data": {
      "image/png": "[encoded data removed]",
      "text/plain": [
       "<Figure size 432x288 with 1 Axes>"
      ]
     },
     "metadata": {
      "filenames": {
       "image/png": "/home/ubuntu/Dropbox/Enseignement prepas/cours/optique/_build/jupyter_execute/notebook/opt_instru_python_3_1.png"
      },
      "needs_background": "light"
     },
     "output_type": "display_data"
    },
    {
     "data": {
      "image/png": "[encoded data removed]",
      "text/plain": [
       "<Figure size 432x288 with 1 Axes>"
      ]
     },
     "metadata": {
      "filenames": {
       "image/png": "/home/ubuntu/Dropbox/Enseignement prepas/cours/optique/_build/jupyter_execute/notebook/opt_instru_python_3_2.png"
      },
      "needs_background": "light"
     },
     "output_type": "display_data"
    }
   ],
   "source": [
    "#1\n",
    "def image(L: list, objet:list) -> list:\n",
    "    xL = L[0]\n",
    "    f = L[1]\n",
    "    xO = objet[0]\n",
    "    yO = objet[1]\n",
    "    return [xL + (f * (xO -xL) ) / (f + xO - xL), yO * f / (f + xO - xL)]\n",
    "\n",
    "#2\n",
    "f2 = -6\n",
    "f4 = -6\n",
    "f3 = 3.5\n",
    "x4 = f4 + f2 * f3 / (f2 + f3)\n",
    "image1 = image([0, f2], [-100, 1])\n",
    "image2 = image([x4 / 2, f3], image1)\n",
    "imagef = image([x4, f4], image2)\n",
    "print(imagef[0])\n",
    "\n",
    "#3\n",
    "def systeme(objet:list) -> list:\n",
    "    f2 = -6\n",
    "    f4 = -6\n",
    "    f3 = 3.5\n",
    "    x4 = f4 + f2 * f3 / (f2 + f3)\n",
    "    image1 = image([0, f2], objet)\n",
    "    image2 = image([x4 / 2, f3], image1)\n",
    "    imagef = image([x4, f4], image2)\n",
    "    return imagef\n",
    "\n",
    "#4 et #5\n",
    "import numpy as np\n",
    "pos_objet = np.linspace(-10000, -100, 100)\n",
    "images_pos = []\n",
    "images_taille = []\n",
    "for pos in pos_objet:\n",
    "    imagef = systeme([pos, 1])\n",
    "    images_pos.append(imagef[0])\n",
    "    images_taille.append(imagef[1])\n",
    "\n",
    "#6\n",
    "import matplotlib.pyplot as plt\n",
    "f, ax = plt.subplots()\n",
    "f.suptitle(\"Position des images\")\n",
    "ax.set_xlabel('Objet(cm)')\n",
    "ax.set_ylabel('Image(cm)')\n",
    "ax.plot(pos_objet, images_pos)\n",
    "ax.grid()\n",
    "\n",
    "f, ax = plt.subplots()\n",
    "f.suptitle(\"Taille des images\")\n",
    "ax.set_xlabel('Objet(cm)')\n",
    "ax.set_ylabel('Image(cm)')\n",
    "ax.plot(pos_objet, images_taille)\n",
    "ax.grid()"
   ]
  },
  {
   "cell_type": "code",
   "execution_count": null,
   "id": "posted-implementation",
   "metadata": {},
   "outputs": [],
   "source": []
  }
 ],
 "metadata": {
  "jupytext": {
   "encoding": "# -*- coding: utf-8 -*-",
   "split_at_heading": true,
   "text_representation": {
    "extension": ".md",
    "format_name": "myst",
    "format_version": 0.13,
    "jupytext_version": "1.10.3"
   }
  },
  "kernelspec": {
   "display_name": "Python 3",
   "language": "python",
   "name": "python3"
  },
  "language_info": {
   "codemirror_mode": {
    "name": "ipython",
    "version": 3
   },
   "file_extension": ".py",
   "mimetype": "text/x-python",
   "name": "python",
   "nbconvert_exporter": "python",
   "pygments_lexer": "ipython3",
   "version": "3.9.2"
  },
  "source_map": [
   14,
   67,
   74,
   93,
   152
  ]
 },
 "nbformat": 4,
 "nbformat_minor": 5
}