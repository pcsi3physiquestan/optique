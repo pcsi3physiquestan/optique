{
 "cells": [
  {
   "cell_type": "markdown",
   "id": "aa055a03",
   "metadata": {},
   "source": [
    "# Application\n",
    "_On rappelle que certains exercices sont disponibles en ligne (https://stanislas.edunao.com/course/view.php?id=987&section=3)._\n",
    "Ces exercices d'application directe est à faire à la suite du cours pour vérifier votre compréhension des méthodes. Vous pourrez confronter votre travail avec celui de vos camarades et poser des questions sur cet exercice en classe mais il ne sera pas forcément donné de correction complète.\n",
    "\n",
    "## Tracés graphiques\n",
    "````{admonition} Exercice \n",
    ":class: attention\n",
    "\n",
    "On considère une lentille convergente et un rayon transmis. Déterminer le rayon incident correspondant.\n",
    "\n",
    "```{figure} ./images/ex_ap_cv_rayon.png\n",
    ":name: ex_ap_cv_r\n",
    ":align: center\n",
    ":width: 60%\n",
    "```\n",
    "````\n",
    "\n",
    "````{admonition} Exercice \n",
    ":class: attention\n",
    "\n",
    "On considère une lentille convergente et un point __image__ A. Déterminer l'antécédent de A.\n",
    "\n",
    "```{figure} ./images/ex_ap_cv_point.png\n",
    ":name: ex_ap_cv_pt\n",
    ":align: center\n",
    ":width: 60%\n",
    "```\n",
    "````\n",
    "\n",
    "## Utilisation des relations\n",
    "````{admonition} Exercice \n",
    ":class: attention\n",
    "\n",
    "On considère une lentille divergente. Démontrer les relations de conjugaison.\n",
    "````\n",
    "\n",
    "\n",
    "````{admonition} Exercice \n",
    ":class: attention\n",
    "\n",
    "Estimer la distance entre la lentille et la matrice CCD d'un appareil photo numérique de distance focale 50mm lorsqu'il fait la mise au point sur un objet:\n",
    "\n",
    "1. lointain\n",
    "2. à 10m\n",
    "3. à 3m\n",
    "4. à 50cm. Commenter. \n",
    "````\n",
    "\n",
    "## Accomodation de l'oeil\n",
    "````{admonition} Exercice \n",
    ":class: attention\n",
    "Déterminer la gamme de distance focale que peut prendre le cristallin d'un oeil emmétrope.\n",
    "````"
   ]
  }
 ],
 "metadata": {
  "jupytext": {
   "encoding": "# -*- coding: utf-8 -*-",
   "formats": "ipynb,md:myst",
   "split_at_heading": true,
   "text_representation": {
    "extension": ".md",
    "format_name": "myst",
    "format_version": 0.13,
    "jupytext_version": "1.10.3"
   }
  },
  "kernelspec": {
   "display_name": "Python 3",
   "language": "python",
   "name": "python3"
  },
  "language_info": {
   "codemirror_mode": {
    "name": "ipython",
    "version": 3
   },
   "file_extension": ".py",
   "mimetype": "text/x-python",
   "name": "python",
   "nbconvert_exporter": "python",
   "pygments_lexer": "ipython3",
   "version": "3.7.12"
  },
  "source_map": [
   15
  ]
 },
 "nbformat": 4,
 "nbformat_minor": 5
}