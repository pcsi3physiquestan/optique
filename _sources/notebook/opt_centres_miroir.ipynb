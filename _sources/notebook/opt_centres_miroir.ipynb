{
 "cells": [
  {
   "cell_type": "markdown",
   "id": "4cd20e7c",
   "metadata": {},
   "source": [
    "(miroir_plan)=\n",
    "# Miroir plan: Présentation et relation\n",
    "\n",
    "\n",
    "````{important} __Miroir plan et relation de conjugaison__\n",
    ":class: full-width\n",
    "* _Un miroir plan est une surface plane parfaitement réfléchissante._\n",
    "* __Un miroir plan réalise un stigmatisme rigoureux.__\n",
    "* Pour un point objet A conjugué à un point image A', on a __la relation de conjugaison $\\overline{HA} = - \\overline{HA'}$__ avec H le projeté de A (ou A') sur le plan du miroir.\n",
    "```{figure} ./images/optique_miroir_plan.jpg\n",
    ":name: miroir_plan\n",
    ":align: center\n",
    "```\n",
    "````\n",
    "```{sidebar} Relation de conjugaison\n",
    "Une relation de conjugaison est une relation mathématique entre la position _longitudinale_ de l'objet et la position _longitudinale_ de l'image.\n",
    "```\n",
    "```{margin}\n",
    "Le miroir plan est le système système optique centrée pouvant réaliser un stigmatisme rigoureux pour tout l'espace.\n",
    "```"
   ]
  }
 ],
 "metadata": {
  "jupytext": {
   "encoding": "# -*- coding: utf-8 -*-",
   "formats": "ipynb,md:myst",
   "split_at_heading": true,
   "text_representation": {
    "extension": ".md",
    "format_name": "myst",
    "format_version": 0.13,
    "jupytext_version": "1.10.3"
   }
  },
  "kernelspec": {
   "display_name": "Python 3",
   "language": "python",
   "name": "python3"
  },
  "language_info": {
   "codemirror_mode": {
    "name": "ipython",
    "version": 3
   },
   "file_extension": ".py",
   "mimetype": "text/x-python",
   "name": "python",
   "nbconvert_exporter": "python",
   "pygments_lexer": "ipython3",
   "version": "3.9.15"
  },
  "source_map": [
   15
  ]
 },
 "nbformat": 4,
 "nbformat_minor": 5
}