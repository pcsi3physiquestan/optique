{
 "cells": [
  {
   "cell_type": "markdown",
   "id": "canadian-painting",
   "metadata": {},
   "source": [
    "# Application\n",
    " ````{admonition} Longueur d'onde et milieu\n",
    " :class: attention\n",
    " Soit $\\lambda_0$ la longueur d'onde dans le vide, sachant que la fréquence d'une onde lumineuse ne varie pas d'un milieu à l'autre, montrer que la longueur d'onde correspondante dans un milieu d'indice de réfraction $n$ est $\\lambda = \\frac{\\lambda_0}{n}$\n",
    " ````\n",
    "\n",
    " _On rappelle que d'autres exercices d'application sont en ligne._"
   ]
  }
 ],
 "metadata": {
  "jupytext": {
   "encoding": "# -*- coding: utf-8 -*-",
   "formats": "ipynb,md:myst",
   "split_at_heading": true,
   "text_representation": {
    "extension": ".md",
    "format_name": "myst",
    "format_version": 0.13,
    "jupytext_version": "1.10.3"
   }
  },
  "kernelspec": {
   "display_name": "Python 3",
   "language": "python",
   "name": "python3"
  },
  "language_info": {
   "codemirror_mode": {
    "name": "ipython",
    "version": 3
   },
   "file_extension": ".py",
   "mimetype": "text/x-python",
   "name": "python",
   "nbconvert_exporter": "python",
   "pygments_lexer": "ipython3",
   "version": "3.9.2"
  },
  "source_map": [
   15
  ]
 },
 "nbformat": 4,
 "nbformat_minor": 5
}