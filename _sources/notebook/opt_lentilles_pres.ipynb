{
 "cells": [
  {
   "cell_type": "markdown",
   "id": "39c61e9e",
   "metadata": {},
   "source": [
    "# Lentilles minces: Présentation\n",
    "\n",
    "## Lentilles minces: définition\n",
    "\n",
    "````{important} __Lentille sphérique mince__\n",
    "\n",
    "Une lentille sphérique est un système optique centré composé d'un milieu transparent taillé suivant deux dioptres sphériques. On a repéré ici les centres et sommets respectifs des deux faces: $C_1, C_2, S_1$ et $S_2$.\n",
    "\n",
    "```{figure} ./images/optique_lentille_principe.jpg\n",
    ":name: lentille_principe\n",
    ":align: center\n",
    "```\n",
    "Soit e l'épaisseur de la lentille $e = \\overline{S_1 S_2}$, on dit que la lentille est mince si $e \\ll C_1 S_1;  e \\ll C_2 S_2;  e \\ll C_1 C_2$\n",
    "\n",
    "Dans ces conditions, on peut confondre les sommets $S_1$ et $S_2$. Ce point sera, dans le cadre d'application des conditions de Gauss, le __centre optique__ de la lentille.\n",
    "````\n",
    "\n",
    "## Lentilles minces: typologie\n",
    "\n",
    "````{sidebar} Remarque\n",
    "\n",
    "Comportement des faisceaux qui traversent chaque lentille.\n",
    "\n",
    "* lentille convergente: l'ouverture angulaire du faisceau tend à diminuer.\n",
    "* lentille divergente: l'ouverture angulaire du faisceau tend à augmenter.\n",
    "\n",
    "```{figure} ./images/optique_lentille_cv_dv.jpg\n",
    ":name: lentille_cvdv\n",
    ":align: center\n",
    ":width: 75%\n",
    "```\n",
    "````\n",
    "````{important} __Lentilles divergente et convergente__\n",
    "\n",
    "* Si la distance focale image est positive, on dit que la lentille est __convergente__.\n",
    "* Si la distance focale image est négative, on dit que la lentille est __divergente__.\n",
    "````\n",
    "\n",
    "\n",
    "## Lentilles minces: Schématisation de Gauss\n",
    "\n",
    "````{margin} Stigmatisme approché\n",
    "Dans le cadre des conditions de Gauss, une lentille mince réalise un stigmatisme approché.\n",
    "````\n",
    "\n",
    "````{important}\n",
    ":class: full-width\n",
    "__Schématisation de Gauss d'une lentille convergente__\n",
    "\n",
    "```{figure} ./images/optique_gauss_convergente.jpg\n",
    ":name: gauss_cv\n",
    ":align: center\n",
    ":width: 40%\n",
    "Schématisation de Gauss (CV)\n",
    "```\n",
    "\n",
    "Dans le cadre des conditions de Gauss, on schématise une lentille mince convergente sous la forme ci-contre.\n",
    "\n",
    "```{figure} ./images/optique_gauss_divergente.jpg\n",
    ":name: gauss_dv\n",
    ":align: center\n",
    ":width: 40%\n",
    "Schématisation de Gauss (DV)\n",
    "```\n",
    "\n",
    "Dans le cadre des conditions de Gauss, on schématise une lentille mince divergente sous la forme ci-contre.\n",
    "````"
   ]
  }
 ],
 "metadata": {
  "jupytext": {
   "encoding": "# -*- coding: utf-8 -*-",
   "formats": "ipynb,md:myst",
   "split_at_heading": true,
   "text_representation": {
    "extension": ".md",
    "format_name": "myst",
    "format_version": 0.13,
    "jupytext_version": "1.10.3"
   }
  },
  "kernelspec": {
   "display_name": "Python 3",
   "language": "python",
   "name": "python3"
  },
  "language_info": {
   "codemirror_mode": {
    "name": "ipython",
    "version": 3
   },
   "file_extension": ".py",
   "mimetype": "text/x-python",
   "name": "python",
   "nbconvert_exporter": "python",
   "pygments_lexer": "ipython3",
   "version": "3.9.15"
  },
  "source_map": [
   15
  ]
 },
 "nbformat": 4,
 "nbformat_minor": 5
}