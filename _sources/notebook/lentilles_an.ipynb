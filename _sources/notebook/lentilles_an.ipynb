{
 "cells": [
  {
   "cell_type": "markdown",
   "id": "reasonable-dimension",
   "metadata": {},
   "source": [
    "# Lentilles minces - Relations\n",
    "\n",
    "````{admonition} Objectifs\n",
    ":class: tip\n",
    "* Exploiter les formule de conjugaison et de grandissement transversal (Descartes, Newton)\n",
    "* Choisir de façon pertinente dans un contexte donné la formulation (Descartes ou Newton) la plus adaptée.\n",
    "* Établir et connaître la condition D > 4f' pour former l'image réelle d'un objet réel par une lentille convergente.\n",
    "````"
   ]
  }
 ],
 "metadata": {
  "jupytext": {
   "encoding": "# -*- coding: utf-8 -*-",
   "formats": "ipynb,md:myst",
   "split_at_heading": true,
   "text_representation": {
    "extension": ".md",
    "format_name": "myst",
    "format_version": 0.13,
    "jupytext_version": "1.10.3"
   }
  },
  "kernelspec": {
   "display_name": "Python 3",
   "language": "python",
   "name": "python3"
  },
  "language_info": {
   "codemirror_mode": {
    "name": "ipython",
    "version": 3
   },
   "file_extension": ".py",
   "mimetype": "text/x-python",
   "name": "python",
   "nbconvert_exporter": "python",
   "pygments_lexer": "ipython3",
   "version": "3.9.2"
  },
  "source_map": [
   15
  ]
 },
 "nbformat": 4,
 "nbformat_minor": 5
}