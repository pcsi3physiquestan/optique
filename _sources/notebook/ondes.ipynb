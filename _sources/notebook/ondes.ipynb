{
 "cells": [
  {
   "cell_type": "markdown",
   "id": "corrected-touch",
   "metadata": {},
   "source": [
    "# La lumière est une onde\n",
    "\n",
    "````{margin}\n",
    "On rappelle que les expériences réalisées en physique classique (principalement les phénomènes de diffraction et d'interférences) poussent à traiter la lumière comme une onde.\n",
    "````\n",
    "\n",
    "## Célérité et indice de réfraction\n",
    "\n",
    "Une onde se propage à une vitesse - une célérité - donnée qui dépend du milieu dans lequel elle se déplace.\n",
    "\n",
    "````{sidebar} Célérité et milieu\n",
    "Dans le vide, la célérité des ondes lumineuses est $c = 3 \\times 10^8 m.s^{-1}$. Dans un autre milieu, la célérité de l'onde $c_{milieu}$ sera donc toujours inférieure à c.\n",
    "````\n",
    "````{important} __Définition : Indice de réfraction__\n",
    "On définit l'indice de réfraction n d'un milieu par : $n = \\frac{c}{c_{milieu}}$.\n",
    "\n",
    "n est toujours supérieur ou égale à 1 et $c = 3 \\times 10^8 m.s^{-1}$ est la vitesse de lalumière dans le vide.\n",
    "````\n",
    "\n",
    "````{topic} Exemple - Indices de réfraction : valeurs\n",
    ":class: dropdown\n",
    "\n",
    "| Milieu | Indice | Remarques |\n",
    "|:-|:-:|:-|\n",
    "| Air | $\\approx 1$ | Varie très légèrement suivant sa température, sa densité (mirage) et sa composition (utilisé dans des détecteurs de monoxyde de carbone) |\n",
    "| Eau liquide | $\\approx 1,3$ | Entre $0 ^{\\circ} C$ et $100 ^{\\circ} C$. Diminue avec la température |\n",
    "| Verre | (1,5) 1,4 -- 1,7 | Vérie fortement suivant le verre. |\n",
    "| Liquide | | Variables suivant leur nature. Utile pour la réfractométrie en chimie |\n",
    "````\n",
    "\n",
    "````{important} __Définition : Milieu dispersif__\n",
    "Un milieu est dit __dispersif__ si son indice de réfraction dépend de la longueur d'onde.\n",
    "````\n",
    "\n",
    "````{admonition} Exemple - Exemple de milieux dispersifs.\n",
    ":class: note, dropdown\n",
    "C'est le cas de nombreux verre (utilisé dans les prismes) mais aussi de l'eau (principe de l'arc-en-ciel) - son indice de réfraction varie de 1,37 à 1,31 entre 200 et 1000nm.\n",
    "````\n",
    "\n",
    "## Relation entre célérité et longueur d'onde\n",
    "\n",
    "````{important} __Fondamental : Relation fréquence-longueur d'onde__\n",
    "On rappelle (Terminale) que pour une onde monochromatique de fréquence $\\nu$, de longueur d'onde $\\lambda$ et de célérité $c_0$, on la relation :\n",
    "\n",
    "\\begin{equation}\n",
    "\\lambda \\nu = c_0\n",
    "\\end{equation}\n",
    "````\n",
    "\n",
    "````{dropdown} La fréquence ne varie pas\n",
    "Pour un signal monochromatique donné, la fréquence ne varie pas lorsque le signal passe d'un milieu à un autre.\n",
    "\n",
    "Conséquence : Puisque la célérité varie, la longueur d'onde aussi. Si le signal possède une longueur d'onde $\\lambda_0$ dans le vide, dans un milieu d'indice de réfraction n, la célérité est ainsi $\\frac{c}{n}$ et la longueur d'onde est donc $\\lambda = \\frac{\\lambda_0}{n}$.\n",
    "\n",
    "Lorsqu'on veut étudier la propriété d'un signal lumineux (type de rayonnement, couleur), les données référencées concernant __la longueur d'onde dans le vide__.\n",
    "\n",
    "Exemple : les longueurs d'onde du visible données $400nm ;800nm$ sont des longueurs d'onde dans le vide.\n",
    "````"
   ]
  }
 ],
 "metadata": {
  "jupytext": {
   "encoding": "# -*- coding: utf-8 -*-",
   "formats": "ipynb,md:myst",
   "split_at_heading": true,
   "text_representation": {
    "extension": ".md",
    "format_name": "myst",
    "format_version": 0.13,
    "jupytext_version": "1.10.3"
   }
  },
  "kernelspec": {
   "display_name": "Python 3",
   "language": "python",
   "name": "python3"
  },
  "language_info": {
   "codemirror_mode": {
    "name": "ipython",
    "version": 3
   },
   "file_extension": ".py",
   "mimetype": "text/x-python",
   "name": "python",
   "nbconvert_exporter": "python",
   "pygments_lexer": "ipython3",
   "version": "3.9.2"
  },
  "source_map": [
   15
  ]
 },
 "nbformat": 4,
 "nbformat_minor": 5
}