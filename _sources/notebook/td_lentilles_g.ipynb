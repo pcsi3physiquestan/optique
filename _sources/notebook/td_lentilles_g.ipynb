{
 "cells": [
  {
   "cell_type": "markdown",
   "id": "lovely-salvation",
   "metadata": {},
   "source": [
    "# TD Optique 2b: Lentilles minces - Construction graphique\n",
    "_Ces exercices seront traités en classe._\n",
    "\n",
    "## Etude graphique d'une lentille divergente\n",
    "On considère une lentille divergente. Déterminer les images (il est conseillé de refaire des dessins à chaque fois pour des questions de clarté):\n",
    "\n",
    "\n",
    "````{admonition} Exercice \n",
    ":class: attention\n",
    "\n",
    "1. du rayon entrant __j__\n",
    "2. de l'objet AB\n",
    "3. de l'objet CD\n",
    "\n",
    "```{figure} ./images/ex_td_dv_graphique_1.png\n",
    ":name: ex_td_dv_g_1\n",
    ":align: center\n",
    "```\n",
    "````\n",
    "\n",
    "On considère une lentille divergente. Déterminer les antécédents (il est conseillé de refaire des dessins à chaque fois pour des questions de clarté):\n",
    "\n",
    "\n",
    "````{admonition} Exercice \n",
    ":class: attention\n",
    "1. du rayon sortant __j'__\n",
    "2. de l'image A'B'\n",
    "3. de l'image C'D'\n",
    "\n",
    "```{figure} ./images/ex_td_dv_graphique_2.png\n",
    ":name: ex_td_dv_g_2\n",
    ":align: center\n",
    "```\n",
    "````\n",
    "\n",
    "## Etude graphique d'un doublet\n",
    "On considère un doublet de lentille, c'est-à-dire deux lentilles $L_1$ et $L_2$ de distance focale image respectives $f_1  = a$ et $f_2 = 3a$ et dont les centre optique (respectivement $O_1$ et $O_2$) sont distants de $\\overline{O_1 O_2} = 2a$.\n",
    "\n",
    "\n",
    "````{admonition} Exercice \n",
    ":class: attention\n",
    "1. Déterminer graphiquement la position du foyer objet.\n",
    "2. Déterminer graphiquement la position du foyer image.\n",
    "````\n",
    "\n",
    "````{dropdown} Eléments de réponse (sans justification)\n",
    "1. $\\overline{F_1 A} = \\frac{a}{2}$\n",
    "2. $\\overline{F'_2 A'} = - \\frac{9a}{2}$\n",
    "````"
   ]
  }
 ],
 "metadata": {
  "jupytext": {
   "encoding": "# -*- coding: utf-8 -*-",
   "formats": "ipynb,md:myst",
   "split_at_heading": true,
   "text_representation": {
    "extension": ".md",
    "format_name": "myst",
    "format_version": 0.13,
    "jupytext_version": "1.10.3"
   }
  },
  "kernelspec": {
   "display_name": "Python 3",
   "language": "python",
   "name": "python3"
  },
  "language_info": {
   "codemirror_mode": {
    "name": "ipython",
    "version": 3
   },
   "file_extension": ".py",
   "mimetype": "text/x-python",
   "name": "python",
   "nbconvert_exporter": "python",
   "pygments_lexer": "ipython3",
   "version": "3.9.2"
  },
  "source_map": [
   15
  ]
 },
 "nbformat": 4,
 "nbformat_minor": 5
}