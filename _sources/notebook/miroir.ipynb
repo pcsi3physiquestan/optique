{
 "cells": [
  {
   "cell_type": "markdown",
   "id": "respiratory-strike",
   "metadata": {},
   "source": [
    "# Miroir plan: Présentation et relation\n",
    "\n",
    "````{important} __Définition : Miroir plan__\n",
    "\n",
    "Un miroir plan est une surface plane parfaitement réfléchissante.\n",
    "````\n",
    "\n",
    "````{important} __Fondamental : Relation de conjugaison et stigmatisme.__\n",
    "\n",
    "Un miroir plan réalise un stigmatisme rigoureux.\n",
    "\n",
    "Pour un point objet A conjugué à un point image A', on a la relation $\\overline{HA} = - \\overline{HA'}$ avec H le projeté de A (ou A') sur le plan du miroir.\n",
    "````\n",
    "\n",
    "Le miroir plan est le système systèmme optique centrée pouvant réaliser un stigmatisme rigoureux pour tout l'espace.\n",
    "\n",
    "```{figure} ./images/optique_miroir_plan.jpg\n",
    ":name: miroir_plan\n",
    ":align: center\n",
    "```"
   ]
  }
 ],
 "metadata": {
  "jupytext": {
   "encoding": "# -*- coding: utf-8 -*-",
   "formats": "ipynb,md:myst",
   "split_at_heading": true,
   "text_representation": {
    "extension": ".md",
    "format_name": "myst",
    "format_version": 0.13,
    "jupytext_version": "1.10.3"
   }
  },
  "kernelspec": {
   "display_name": "Python 3",
   "language": "python",
   "name": "python3"
  },
  "language_info": {
   "codemirror_mode": {
    "name": "ipython",
    "version": 3
   },
   "file_extension": ".py",
   "mimetype": "text/x-python",
   "name": "python",
   "nbconvert_exporter": "python",
   "pygments_lexer": "ipython3",
   "version": "3.9.2"
  },
  "source_map": [
   15
  ]
 },
 "nbformat": 4,
 "nbformat_minor": 5
}