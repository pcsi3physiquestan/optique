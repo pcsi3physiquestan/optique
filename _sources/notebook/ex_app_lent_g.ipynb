{
 "cells": [
  {
   "cell_type": "markdown",
   "id": "5633f1b3",
   "metadata": {},
   "source": [
    "# Application: recherche d'antécédent\n",
    "Cet exercice d'application directe est à faire à la suite du cours pour vérifier votre compréhension des méthodes. Vous pourrez confronter votre travail avec celui de vos camarades et poser des questions sur cet exercice en classe mais il ne sera pas donné de correction complète.\n",
    "\n",
    "\n",
    "````{admonition} Exercice \n",
    ":class: attention\n",
    "\n",
    "On considère une lentille convergente et un rayon transmis. Déterminer le rayon incident correspondant.\n",
    "\n",
    "```{figure} ./images/ex_ap_cv_rayon.png\n",
    ":name: ex_ap_cv_r\n",
    ":align: center\n",
    ":width: 60%\n",
    "```\n",
    "````\n",
    "\n",
    "````{admonition} Exercice \n",
    ":class: attention\n",
    "\n",
    "On considère une lentille convergente et un point __image__ A. Déterminer l'antécédent de A.\n",
    "\n",
    "```{figure} ./images/ex_ap_cv_point.png\n",
    ":name: ex_ap_cv_pt\n",
    ":align: center\n",
    ":width: 60%\n",
    "```\n",
    "````"
   ]
  }
 ],
 "metadata": {
  "jupytext": {
   "encoding": "# -*- coding: utf-8 -*-",
   "formats": "ipynb,md:myst",
   "split_at_heading": true,
   "text_representation": {
    "extension": ".md",
    "format_name": "myst",
    "format_version": 0.13,
    "jupytext_version": "1.10.3"
   }
  },
  "kernelspec": {
   "display_name": "Python 3",
   "language": "python",
   "name": "python3"
  },
  "language_info": {
   "codemirror_mode": {
    "name": "ipython",
    "version": 3
   },
   "file_extension": ".py",
   "mimetype": "text/x-python",
   "name": "python",
   "nbconvert_exporter": "python",
   "pygments_lexer": "ipython3",
   "version": "3.7.12"
  },
  "source_map": [
   15
  ]
 },
 "nbformat": 4,
 "nbformat_minor": 5
}