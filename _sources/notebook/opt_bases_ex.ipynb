{
 "cells": [
  {
   "cell_type": "markdown",
   "id": "c28f0d36",
   "metadata": {},
   "source": [
    "# Maitriser les méthodes\n",
    "De manière générale dans les cours, ces parties présentent (à traiter dans l'ordre):\n",
    "* des exercices-types (Méthodes) montrant les méthodes d'applications des théorèmes et principes du cours. __Leur correction est en ligne.__ Il faut les comprendre et savoir les refaire.\n",
    "* des activités (Activités) montrant des applications des théorèmes (méthodes à savoir refaire) __avec des conclusions des exercices qui doivent être apprises et que vous devez savoir redémontrer.__ (ici le tracé qualitatif des rayons et la réfraction totale).\n",
    "* des exercices d'application (Application) : exercices de bases pouvant être faits dès le début travail du cours pour voir si l'on maitrise les méthodes de base.\n",
    "    * Pour ce chapitre, les exercices d'applications sont [accessible en ligne](https://moodlecpge.stanislas.fr/mod/quiz/view.php?id=114) _(connection nécessaire)_.\n",
    "    * Vous trouverez aussi [un questionnaire de cours](https://moodlecpge.stanislas.fr/mod/resource/view.php?id=113) pour s'entraîner à répondre __rapidement__ à ces questions _(connection nécessaire)_.\n",
    "* des exercices d'entrainement (Entrainement) : exercices plus évolués à apprendre à maitriser. _Certains éléments de corrections (pas la correction complète) peuvent être en ligne._\n",
    "* des approfondissement (Aller plus loin) : exercices plus complexes à ne traiter que si l'on a bien su faire les exercices précédents. _Ils ne sont en général présents que sur le site._\n",
    "    * Pour ce chapitre, ces exercices sont [disponibles ici](https://moodlecpge.stanislas.fr/mod/resource/view.php?id=115) _(connection nécessaire)_."
   ]
  }
 ],
 "metadata": {
  "jupytext": {
   "encoding": "# -*- coding: utf-8 -*-",
   "formats": "ipynb,md:myst",
   "split_at_heading": true,
   "text_representation": {
    "extension": ".md",
    "format_name": "myst",
    "format_version": 0.13,
    "jupytext_version": "1.10.3"
   }
  },
  "kernelspec": {
   "display_name": "Python 3",
   "language": "python",
   "name": "python3"
  },
  "language_info": {
   "codemirror_mode": {
    "name": "ipython",
    "version": 3
   },
   "file_extension": ".py",
   "mimetype": "text/x-python",
   "name": "python",
   "nbconvert_exporter": "python",
   "pygments_lexer": "ipython3",
   "version": "3.9.15"
  },
  "source_map": [
   15
  ]
 },
 "nbformat": 4,
 "nbformat_minor": 5
}