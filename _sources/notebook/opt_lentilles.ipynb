{
 "cells": [
  {
   "cell_type": "markdown",
   "id": "alternate-commons",
   "metadata": {},
   "source": [
    "# Lentilles minces\n",
    "\n",
    "````{admonition} Compétences\n",
    ":class: tip\n",
    "* Connaître les définitions et les propriétés du centre optique, des foyers principaux et secondaires, de la distance focale, de la vergence.\n",
    "* Construire l'image d'un objet situé à une distance finie ou infinie de rayons lumineux.\n",
    "* Exploiter les formules de conjugaison et de grandissement transversal (Descartes, Newton)\n",
    "* Choisir de façon pertinente dans un contexte donné la formulation (Descartes ou Newton) la plus adaptée.\n",
    "* Établir et connaître la condition D > 4f' pour former l'image réelle d'un objet réel par une lentille convergente.\n",
    "* Modéliser l'oeil comme l'association d'une lentille de vergence variable et d'un capteur fixe.\n",
    "* Connaître les ordres de grandeur de la limite de résolution angulaire et de la plage d’accommodation.\n",
    "````"
   ]
  }
 ],
 "metadata": {
  "jupytext": {
   "encoding": "# -*- coding: utf-8 -*-",
   "formats": "ipynb,md:myst",
   "split_at_heading": true,
   "text_representation": {
    "extension": ".md",
    "format_name": "myst",
    "format_version": 0.13,
    "jupytext_version": "1.10.3"
   }
  },
  "kernelspec": {
   "display_name": "Python 3",
   "language": "python",
   "name": "python3"
  },
  "language_info": {
   "codemirror_mode": {
    "name": "ipython",
    "version": 3
   },
   "file_extension": ".py",
   "mimetype": "text/x-python",
   "name": "python",
   "nbconvert_exporter": "python",
   "pygments_lexer": "ipython3",
   "version": "3.9.2"
  },
  "source_map": [
   15
  ]
 },
 "nbformat": 4,
 "nbformat_minor": 5
}