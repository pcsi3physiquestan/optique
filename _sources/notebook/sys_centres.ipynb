{
 "cells": [
  {
   "cell_type": "markdown",
   "id": "catholic-generic",
   "metadata": {},
   "source": [
    "# Systèmes centrés\n",
    "````{admonition} Objectifs\n",
    ":class: tip\n",
    "* Construire l'image d'un objet et identifier sa nature réelle ou virtuelle.\n",
    "* Enoncer les conditions permettant un stigmatisme approché et les relier aux caractéristiques d'un détecteur.\n",
    "* Connaître les définitions et les propriétés d'un système centré, du centre optique, des foyers principaux et secondaires.\n",
    "````"
   ]
  }
 ],
 "metadata": {
  "jupytext": {
   "encoding": "# -*- coding: utf-8 -*-",
   "formats": "ipynb,md:myst",
   "split_at_heading": true,
   "text_representation": {
    "extension": ".md",
    "format_name": "myst",
    "format_version": 0.13,
    "jupytext_version": "1.10.3"
   }
  },
  "kernelspec": {
   "display_name": "Python 3",
   "language": "python",
   "name": "python3"
  },
  "language_info": {
   "codemirror_mode": {
    "name": "ipython",
    "version": 3
   },
   "file_extension": ".py",
   "mimetype": "text/x-python",
   "name": "python",
   "nbconvert_exporter": "python",
   "pygments_lexer": "ipython3",
   "version": "3.9.2"
  },
  "source_map": [
   15
  ]
 },
 "nbformat": 4,
 "nbformat_minor": 5
}