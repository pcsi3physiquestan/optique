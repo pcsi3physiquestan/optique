{
 "cells": [
  {
   "cell_type": "markdown",
   "id": "16495074",
   "metadata": {},
   "source": [
    "# Bases de l'optique géométrique\n",
    "\n",
    "````{admonition} Compétences\n",
    ":class: tip\n",
    "* Relier la longueur d'onde dans le vide à la longueur d'onde dans le milieu.\n",
    "* Définir le modèle de l'optique géométrique et indiquer ses limites.\n",
    "* Utiliser les loi des Descartes pour prévoir qualitativement et quantitativement le trajet d'un rayon lumineux.\n",
    "* Établir la condition de réflexion totale\n",
    "````"
   ]
  }
 ],
 "metadata": {
  "jupytext": {
   "encoding": "# -*- coding: utf-8 -*-",
   "formats": "ipynb,md:myst",
   "split_at_heading": true,
   "text_representation": {
    "extension": ".md",
    "format_name": "myst",
    "format_version": 0.13,
    "jupytext_version": "1.10.3"
   }
  },
  "kernelspec": {
   "display_name": "Python 3",
   "language": "python",
   "name": "python3"
  },
  "language_info": {
   "codemirror_mode": {
    "name": "ipython",
    "version": 3
   },
   "file_extension": ".py",
   "mimetype": "text/x-python",
   "name": "python",
   "nbconvert_exporter": "python",
   "pygments_lexer": "ipython3",
   "version": "3.7.12"
  },
  "source_map": [
   15
  ]
 },
 "nbformat": 4,
 "nbformat_minor": 5
}