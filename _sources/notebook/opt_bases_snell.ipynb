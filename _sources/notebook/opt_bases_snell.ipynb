{
 "cells": [
  {
   "cell_type": "markdown",
   "id": "fe7b4212",
   "metadata": {},
   "source": [
    "# Lois de Snell-Descartes\n",
    "\n",
    "Les lois de Snell-Descartes permettent de traiter le cas où l'on passe brusquement d'un milieu d'indice de réfraction $n_1$ à un milieu d'indice $n_2$.\n",
    "\n",
    "````{margin}\n",
    "On remarquera que localement, l'approximation de l'optique géométrique n'est plus valable. Cela explique que les propriétés précédentes ne suffisent plus à étudier le comportement des rayons lumineux.\n",
    "````\n",
    "\n",
    "(snell_enonce)=\n",
    "## Lois de Snell-Descartes: Enoncé\n",
    "\n",
    "\n",
    "````{topic} Définitions préalables\n",
    "On considère un rayon lumineux, appelé __rayon incident__ qui se propage dans un milieu d'indice $n_1$ et qui arrive à la frontière - le __dioptre__ avec un milieu d'indice $n_2$ différent de $n_1$.\n",
    "\n",
    "On définit la normale au dioptre (n) au point d'incidence I où le rayon incident intersecte le dioptre et on appelle __plan d'incidence__ le plan formé par le rayon incident et la normale (n) au dioptre.\n",
    "````\n",
    "\n",
    "\n",
    "````{important} __Lois de Snell-Descartes (Admis)__\n",
    "\n",
    "Lorsqu'un rayon lumineux (appelé __rayon incident__) se propageant dans un milieu d'indice $n_1$ arrive sur un __dioptre__, ce rayon sépare énergétiquement en deux rayons __tous deux contenus dans le plan d'incidence__:\n",
    "\n",
    "* l'un, appelé __rayon réfléchi__, continue à se propager dans le milieu d'indice $n_1$.\n",
    "* l'autre, appelé __rayon réfracté__, se propage dans le milieu d'indice $n_2$.\n",
    "\n",
    "On peut définir les angles __orientés__ pour chaque rayon:\n",
    "\n",
    "* __angle incident__ $i_1$: de la normale vers le rayon incident.\n",
    "* __angle réfléchi__ $r$:  de la normale vers le rayon réfléchi.\n",
    "* __angle réfracté__ $i_2$:  de la normale vers le rayon réfracté.\n",
    "\n",
    "```{figure} ./images/optique_descartes_plus_refringent.jpg\n",
    ":name: descartes\n",
    ":width: 25%\n",
    ":align: center\n",
    "```\n",
    "On a alors les relations géométriques suivantes:\n",
    "\n",
    "\\begin{align*}\n",
    "r &= - i_1\\\\\n",
    "n_1 \\sin i_1 &= n_2 \\sin i_2\n",
    "\\end{align*}\n",
    "````\n",
    "\n",
    "````{sidebar} Complément - Séparation énergétique\n",
    "La loi de Snell-Descartes permet d'étudier géométriquement l'existence des deux rayons. Mais il faut préciser qu'il s'opère un division de l'énergie entre deux parts (transmise et réfléchie) __qui ne sont pas forcément égales__.\n",
    "\n",
    "Le théorie électromagnétique (HP) permet de prévoir la répartition énergétique. On retiendra simplement qu'il n'y a pas séparation en deux parts égales et que celle-ci peut varier en fonction de l'angle d'incidence (dans certaines conditions, on peut même annuler la puissance réfléchie ou la puissance transmise).\n",
    "````"
   ]
  }
 ],
 "metadata": {
  "jupytext": {
   "encoding": "# -*- coding: utf-8 -*-",
   "formats": "ipynb,md:myst",
   "split_at_heading": true,
   "text_representation": {
    "extension": ".md",
    "format_name": "myst",
    "format_version": 0.13,
    "jupytext_version": "1.10.3"
   }
  },
  "kernelspec": {
   "display_name": "Python 3",
   "language": "python",
   "name": "python3"
  },
  "language_info": {
   "codemirror_mode": {
    "name": "ipython",
    "version": 3
   },
   "file_extension": ".py",
   "mimetype": "text/x-python",
   "name": "python",
   "nbconvert_exporter": "python",
   "pygments_lexer": "ipython3",
   "version": "3.9.15"
  },
  "source_map": [
   15
  ]
 },
 "nbformat": 4,
 "nbformat_minor": 5
}