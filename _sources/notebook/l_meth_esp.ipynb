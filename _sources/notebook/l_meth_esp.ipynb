{
 "cells": [
  {
   "cell_type": "markdown",
   "id": "accompanied-attribute",
   "metadata": {},
   "source": [
    "# Zones d'espaces conjuguées\n",
    "On veut ici relier des zones d'espaces dans lesquelles l'objet et l'image conjugué seront du même type: par exemple une zone où l'on aura toujours un objet réel donnant une image virtuelle (attention la zone de l'objet ne sera pas la même que la zone de l'image.\n",
    "\n",
    "\n",
    "````{admonition} Exercice \n",
    ":class: attention\n",
    "\n",
    "On considère une lentille convergente. Déterminer les zones objets correspondant aux configuration suivantes:\n",
    "\n",
    "1. l'objet est réel et l'image est virtuelle.\n",
    "2. l'objet est réel et l'image est réelle.\n",
    "3. l'objet est virtuel et l'image est virtuelle.\n",
    "4. l'objet est virtuel et l'image est réelle.\n",
    "\n",
    "Dans chaque configuration, on déterminera aussi:\n",
    "\n",
    "*  la zone image correspondante\n",
    "* si l'image est droite ou renversée\n",
    "* si l'image est grandit, rétrécie ou si elle peut-être les deux.\n",
    "\n",
    "Reprendre le même exercice pour une lentille divergente.\n",
    "````\n",
    "\n",
    "````{important} Bilan à retenir - Ce n'est PAS la correction., dropdown\n",
    "On retiendra que pour un lentille convergente, on peut obtenir les 3 configurations suivantes:\n",
    "\n",
    "* objet réel avant le foyer objet et image réelle après le foyer image. L'image est alors renversée et elle peut être agrandie ou rétrécie.\n",
    "* objet réel entre F et O et image virtuelle. L'image est droite et toujours plus grande que l'objet.\n",
    "* objet virtuel et image réelle entre O et F'. L'image est droite et toujours plus petite que l'objet.\n",
    "````\n",
    "\n",
    "````{important} Bilan à retenir - Ce n'est PAS la correction., dropdown\n",
    "\n",
    "On retiendra que pour un lentille divergente, on peut obtenir les 3 configurations suivantes:\n",
    "\n",
    "* objet réel et image virtuelle entre F' et O. L'image est alors droite et elle est toujours plus petite que l'objet.\n",
    "* objet virtuel entre O et F et image réelle. L'image est droite et toujours plus grande que l'objet.\n",
    "* objet virtuel après F et image virtuelle avant F'. L'image est renversée et elle peut être agrandie ou rétrécie.\n",
    "````\n",
    "\n",
    "\n",
    "```{figure} ./images/optique_espaces_conjugues.jpg\n",
    ":name: espaces_conjugues\n",
    ":align: center\n",
    "Les couleurs donnent la correspondance entre les zones objets et images\n",
    "```\n",
    "\n",
    "\n",
    "````{dropdown} Remarque\n",
    "\n",
    "__Points principaux__ On remarquera que les points qui délimitent les zones d'espaces conjugués sont des points importants pour l'objet (l'infini, le foyer __objet__, le centre optique) ou pour l'image (l'infini, le foyer __image__, le centre optique).\n",
    "````\n",
    "\n",
    "\n",
    "````{admonition} Tracé graphique\n",
    ":class: hint, dropdown\n",
    "Il est __très vivement__ conseillé de s'entraîner à déterminer l'image d'un point objet dans chaque zone objet pour chaque type de lentille puis de faire l'inverse: déterminer l'antécédent d'un point image dans chaque zone image pour chaque type de lentille.\n",
    "\n",
    "Vous serez alors à même de vous débrouiller dans chaque situation.\n",
    "````"
   ]
  }
 ],
 "metadata": {
  "jupytext": {
   "encoding": "# -*- coding: utf-8 -*-",
   "formats": "ipynb,md:myst",
   "split_at_heading": true,
   "text_representation": {
    "extension": ".md",
    "format_name": "myst",
    "format_version": 0.13,
    "jupytext_version": "1.10.3"
   }
  },
  "kernelspec": {
   "display_name": "Python 3",
   "language": "python",
   "name": "python3"
  },
  "language_info": {
   "codemirror_mode": {
    "name": "ipython",
    "version": 3
   },
   "file_extension": ".py",
   "mimetype": "text/x-python",
   "name": "python",
   "nbconvert_exporter": "python",
   "pygments_lexer": "ipython3",
   "version": "3.9.2"
  },
  "source_map": [
   15
  ]
 },
 "nbformat": 4,
 "nbformat_minor": 5
}