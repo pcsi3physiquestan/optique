{
 "cells": [
  {
   "cell_type": "markdown",
   "id": "ff6def47",
   "metadata": {},
   "source": [
    "# Activité : Projection\n",
    "\n",
    "Nous allons étudier ici les conditions de projection, c'est-à-dire les conditions permettant de projeter un objet sur un écran à une distance donnée. On retrouve évidemment ce principe dans tous les dispositifs...  de projection comme un vidéo-projecteur.\n",
    "\n",
    "On désire projeter un objet lumineux (exemple l'objet illumé par un vidéoprojecteur) sur un écran situé à une distance D (par exemple le tableau). On dispose pour celà de lentilles et on veut savoir quelles sont les lentilles qu'on peut choisir pour réaliser cette projection.\n",
    "\n",
    "On s'impose que:\n",
    "* Condition 1: l'image sur l'écran doit être nette (!)\n",
    "* Condition 2: l'image sur l'écran doit être grandie.\n",
    "\n",
    "````{admonition} Exercice \n",
    ":class: attention\n",
    "\n",
    "1. Analyse de la condition 1:\n",
    "    1. Quel est la nature (réel/virtuel) de l'objet ? de l'image ? Quelle type de lentille faut-il choisir?\n",
    "    2. Justifier que la distance focale f' de la lentille doit vérifier la __condition de projection__ : $D > 4f'$\n",
    "2. Analyse de la condition 2:\n",
    "\t1. La condition de projection étant réalisée, déterminer les distances $\\overline{OA}$ entre la lentille et l'objet et $\\overline{OA'}$ entre la lentille et l'écran en fonction de D et f'. Vous devez trouver deux possibilités.\n",
    "\t2. Laquelle de ces deux possibilités permet de satisfaire la condition 2?\n",
    "\t3. Exprimer dans ces conditions le grandissement.\n",
    "\t4. Estimer la distance focale de la lentille du vidéoprojecteur de la classe ainsi que le grandissement.\n",
    "\t5. Comment faut-il choisir la distance focale pour obtenir un grossissement important. Quel problème celà peut-il poser?\n",
    "````\n",
    "\n",
    "````{important} Bilan à retenir - Ce n'est PAS la correction\n",
    "On retiendra que:\n",
    "* pour pouvoir projeter un objet sur un écran situé à une distance D, il faut __une lentille convergente__ dont la distance focale satisfait __la condition de projection $D > 4f'$__.\n",
    "* pour grandir l'objet, la lentille doit se trouver plus proche de l'objet que de l'écran.\n",
    "````"
   ]
  }
 ],
 "metadata": {
  "jupytext": {
   "encoding": "# -*- coding: utf-8 -*-",
   "formats": "ipynb,md:myst",
   "split_at_heading": true,
   "text_representation": {
    "extension": ".md",
    "format_name": "myst",
    "format_version": 0.13,
    "jupytext_version": "1.10.3"
   }
  },
  "kernelspec": {
   "display_name": "Python 3",
   "language": "python",
   "name": "python3"
  },
  "language_info": {
   "codemirror_mode": {
    "name": "ipython",
    "version": 3
   },
   "file_extension": ".py",
   "mimetype": "text/x-python",
   "name": "python",
   "nbconvert_exporter": "python",
   "pygments_lexer": "ipython3",
   "version": "3.9.15"
  },
  "source_map": [
   15
  ]
 },
 "nbformat": 4,
 "nbformat_minor": 5
}